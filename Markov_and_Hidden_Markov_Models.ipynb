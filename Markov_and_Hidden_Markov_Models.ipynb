{
  "nbformat": 4,
  "nbformat_minor": 0,
  "metadata": {
    "colab": {
      "name": "Markov and Hidden Markov Models.ipynb",
      "provenance": [],
      "collapsed_sections": [
        "tFf5PTRxj6Ln",
        "jupQniorru_b",
        "B-_essTxogav",
        "XbuOPNoJodfi"
      ]
    },
    "kernelspec": {
      "name": "python3",
      "display_name": "Python 3"
    }
  },
  "cells": [
    {
      "cell_type": "code",
      "metadata": {
        "id": "mB9mdQJhgxDJ",
        "colab": {
          "base_uri": "https://localhost:8080/",
          "height": 122
        },
        "outputId": "51991bb0-0e6b-405a-9486-b1f3c9f596e3"
      },
      "source": [
        "from google.colab import drive\n",
        "drive.mount('/content/drive')"
      ],
      "execution_count": null,
      "outputs": [
        {
          "output_type": "stream",
          "text": [
            "Go to this URL in a browser: https://accounts.google.com/o/oauth2/auth?client_id=947318989803-6bn6qk8qdgf4n4g3pfee6491hc0brc4i.apps.googleusercontent.com&redirect_uri=urn%3Aietf%3Awg%3Aoauth%3A2.0%3Aoob&scope=email%20https%3A%2F%2Fwww.googleapis.com%2Fauth%2Fdocs.test%20https%3A%2F%2Fwww.googleapis.com%2Fauth%2Fdrive%20https%3A%2F%2Fwww.googleapis.com%2Fauth%2Fdrive.photos.readonly%20https%3A%2F%2Fwww.googleapis.com%2Fauth%2Fpeopleapi.readonly&response_type=code\n",
            "\n",
            "Enter your authorization code:\n",
            "··········\n",
            "Mounted at /content/drive\n"
          ],
          "name": "stdout"
        }
      ]
    },
    {
      "cell_type": "markdown",
      "metadata": {
        "id": "tFf5PTRxj6Ln"
      },
      "source": [
        "#Bayesian Network\n",
        "\n",
        "It's a DAG representing a set of conidtional independance assumptions about distributions.\n",
        "Every random variable in the DAG has a conditional probabilty distribution, as described by the example below."
      ]
    },
    {
      "cell_type": "markdown",
      "metadata": {
        "id": "eCh-7-DXrC5y"
      },
      "source": [
        "![alt text](https://drive.google.com/uc?id=1oCQEylLM8wqSy7xfugJyOE-aYOkx5rIs)"
      ]
    },
    {
      "cell_type": "markdown",
      "metadata": {
        "id": "jupQniorru_b"
      },
      "source": [
        "#Dynamic Bayesian Network\n",
        "\n",
        "Bayesian Networks modeled over an arrangement of time-series.\n",
        "\n",
        "\n"
      ]
    },
    {
      "cell_type": "markdown",
      "metadata": {
        "id": "AspAHLIPsyq1"
      },
      "source": [
        "Each time slice is conditionally dependent on the previous one.\n",
        "![alt text](https://drive.google.com/uc?id=10PNtUK03-xEqoJhwQMIO6dZxn8Bs76mg)"
      ]
    },
    {
      "cell_type": "markdown",
      "metadata": {
        "id": "B-_essTxogav"
      },
      "source": [
        "#Markov Models"
      ]
    },
    {
      "cell_type": "markdown",
      "metadata": {
        "id": "-Tt-c2rWo_VU"
      },
      "source": [
        "**allow us to predict a sequence of unknown (hidden) variables from a set of observed variables**\n",
        "\n",
        "Markov property: You can predict the future if you know the present."
      ]
    },
    {
      "cell_type": "markdown",
      "metadata": {
        "id": "lAMu6jwVs1dQ"
      },
      "source": [
        "Generally, the term “states” are used to refer to the hidden states and “observations” are used to refer to the observed states.\n",
        "\n",
        "\n",
        "\n",
        "   * Transition data — the probability of transitioning to a new state conditioned on a present state.\n",
        "   * Emission data — the probability of transitioning to an observed state conditioned on a hidden state.\n",
        "   * Initial state information — the initial probability of transitioning to a hidden state. This can also be looked at as the prior probability."
      ]
    },
    {
      "cell_type": "markdown",
      "metadata": {
        "id": "BmUSDiW-oSE6"
      },
      "source": [
        "![alt text](https://drive.google.com/uc?id=1L_uStnyXAgl-JhLXkC62X-axPUjtshXK)"
      ]
    },
    {
      "cell_type": "markdown",
      "metadata": {
        "id": "XbuOPNoJodfi"
      },
      "source": [
        "#Training a HMM \n"
      ]
    },
    {
      "cell_type": "markdown",
      "metadata": {
        "id": "j_HQgbDdsSns"
      },
      "source": [
        "![alt text](https://drive.google.com/uc?id=1RxerYmThlBw0dFS_uB4vpsqFkNTrlZLs) "
      ]
    },
    {
      "cell_type": "markdown",
      "metadata": {
        "id": "huu5p-9IZ8Wb"
      },
      "source": [
        "##Tokenization"
      ]
    },
    {
      "cell_type": "markdown",
      "metadata": {
        "id": "rflebRnkO8-N"
      },
      "source": [
        "##State transition and emission probabilities\n",
        "\n",
        "![alt text](https://drive.google.com/uc?id=1UbjBmlGWLpFtlQxETpN5dAOZ7wcwMjin) "
      ]
    },
    {
      "cell_type": "markdown",
      "metadata": {
        "id": "Auusud_CQ53c"
      },
      "source": [
        "##Score known sequences \n",
        "\n",
        "![alt text](https://drive.google.com/uc?id=1RxerYmThlBw0dFS_uB4vpsqFkNTrlZLs)\n",
        "\n",
        "![alt text](https://drive.google.com/uc?id=1XdvT-KGFB71f1-KXakTGZL-5xZJHS3DI)"
      ]
    },
    {
      "cell_type": "markdown",
      "metadata": {
        "id": "Htd48kmSsMNc"
      },
      "source": [
        ""
      ]
    },
    {
      "cell_type": "markdown",
      "metadata": {
        "id": "hVpf_0f0ox66"
      },
      "source": [
        "#Example using text generation"
      ]
    },
    {
      "cell_type": "code",
      "metadata": {
        "id": "f-o7ZsVVk0qG"
      },
      "source": [
        ""
      ],
      "execution_count": null,
      "outputs": []
    },
    {
      "cell_type": "code",
      "metadata": {
        "id": "coUBXSjMgsYv",
        "colab": {
          "base_uri": "https://localhost:8080/",
          "height": 224
        },
        "outputId": "7890a2c6-44e9-43eb-91a4-e5bf6c81d2bb"
      },
      "source": [
        "pip install markovify"
      ],
      "execution_count": null,
      "outputs": [
        {
          "output_type": "stream",
          "text": [
            "Collecting markovify\n",
            "  Downloading https://files.pythonhosted.org/packages/99/b7/a5cf39283f08c8013623dbcf67063b0215942ae464fc864eca1434d050e1/markovify-0.7.2.tar.gz\n",
            "Collecting unidecode (from markovify)\n",
            "\u001b[?25l  Downloading https://files.pythonhosted.org/packages/d0/42/d9edfed04228bacea2d824904cae367ee9efd05e6cce7ceaaedd0b0ad964/Unidecode-1.1.1-py2.py3-none-any.whl (238kB)\n",
            "\u001b[K     |████████████████████████████████| 245kB 7.0MB/s \n",
            "\u001b[?25hBuilding wheels for collected packages: markovify\n",
            "  Building wheel for markovify (setup.py) ... \u001b[?25l\u001b[?25hdone\n",
            "  Stored in directory: /root/.cache/pip/wheels/0c/19/38/b901adb8ab0721a6c8c86f468e48b22f3ecf08560e6aeb99fa\n",
            "Successfully built markovify\n",
            "Installing collected packages: unidecode, markovify\n",
            "Successfully installed markovify-0.7.2 unidecode-1.1.1\n"
          ],
          "name": "stdout"
        }
      ]
    },
    {
      "cell_type": "code",
      "metadata": {
        "id": "dUhD2zt1g3-y"
      },
      "source": [
        "import markovify as mk"
      ],
      "execution_count": null,
      "outputs": []
    },
    {
      "cell_type": "code",
      "metadata": {
        "id": "4Xz3EJfqhWJT",
        "colab": {
          "base_uri": "https://localhost:8080/",
          "height": 34
        },
        "outputId": "f7b8d04d-b0ff-4096-92bc-a07cd6cc40a6"
      },
      "source": [
        "from google.colab import drive\n",
        "drive.mount('/content/gdrive')"
      ],
      "execution_count": null,
      "outputs": [
        {
          "output_type": "stream",
          "text": [
            "Mounted at /content/gdrive\n"
          ],
          "name": "stdout"
        }
      ]
    },
    {
      "cell_type": "code",
      "metadata": {
        "id": "3aeZeE64mWqW"
      },
      "source": [
        "import numpy as np\n",
        "import pandas as pd"
      ],
      "execution_count": null,
      "outputs": []
    },
    {
      "cell_type": "code",
      "metadata": {
        "id": "QXbvUavamuo8"
      },
      "source": [
        "data = pd.read_csv('gdrive/My Drive/Colab Notebooks/tweets.csv')"
      ],
      "execution_count": null,
      "outputs": []
    },
    {
      "cell_type": "code",
      "metadata": {
        "id": "BGeRRgbenV8U",
        "colab": {
          "base_uri": "https://localhost:8080/",
          "height": 479
        },
        "outputId": "62f08d8a-bc57-4876-cb6b-eebe175ada0c"
      },
      "source": [
        "data.head()"
      ],
      "execution_count": null,
      "outputs": [
        {
          "output_type": "execute_result",
          "data": {
            "text/html": [
              "<div>\n",
              "<style scoped>\n",
              "    .dataframe tbody tr th:only-of-type {\n",
              "        vertical-align: middle;\n",
              "    }\n",
              "\n",
              "    .dataframe tbody tr th {\n",
              "        vertical-align: top;\n",
              "    }\n",
              "\n",
              "    .dataframe thead th {\n",
              "        text-align: right;\n",
              "    }\n",
              "</style>\n",
              "<table border=\"1\" class=\"dataframe\">\n",
              "  <thead>\n",
              "    <tr style=\"text-align: right;\">\n",
              "      <th></th>\n",
              "      <th>id</th>\n",
              "      <th>handle</th>\n",
              "      <th>text</th>\n",
              "      <th>is_retweet</th>\n",
              "      <th>original_author</th>\n",
              "      <th>time</th>\n",
              "      <th>in_reply_to_screen_name</th>\n",
              "      <th>in_reply_to_status_id</th>\n",
              "      <th>in_reply_to_user_id</th>\n",
              "      <th>is_quote_status</th>\n",
              "      <th>lang</th>\n",
              "      <th>retweet_count</th>\n",
              "      <th>favorite_count</th>\n",
              "      <th>longitude</th>\n",
              "      <th>latitude</th>\n",
              "      <th>place_id</th>\n",
              "      <th>place_full_name</th>\n",
              "      <th>place_name</th>\n",
              "      <th>place_type</th>\n",
              "      <th>place_country_code</th>\n",
              "      <th>place_country</th>\n",
              "      <th>place_contained_within</th>\n",
              "      <th>place_attributes</th>\n",
              "      <th>place_bounding_box</th>\n",
              "      <th>source_url</th>\n",
              "      <th>truncated</th>\n",
              "      <th>entities</th>\n",
              "      <th>extended_entities</th>\n",
              "    </tr>\n",
              "  </thead>\n",
              "  <tbody>\n",
              "    <tr>\n",
              "      <th>0</th>\n",
              "      <td>780925634159796224</td>\n",
              "      <td>HillaryClinton</td>\n",
              "      <td>The question in this election: Who can put the...</td>\n",
              "      <td>False</td>\n",
              "      <td>NaN</td>\n",
              "      <td>2016-09-28T00:22:34</td>\n",
              "      <td>NaN</td>\n",
              "      <td>NaN</td>\n",
              "      <td>NaN</td>\n",
              "      <td>False</td>\n",
              "      <td>en</td>\n",
              "      <td>218</td>\n",
              "      <td>651</td>\n",
              "      <td>NaN</td>\n",
              "      <td>NaN</td>\n",
              "      <td>NaN</td>\n",
              "      <td>NaN</td>\n",
              "      <td>NaN</td>\n",
              "      <td>NaN</td>\n",
              "      <td>NaN</td>\n",
              "      <td>NaN</td>\n",
              "      <td>NaN</td>\n",
              "      <td>NaN</td>\n",
              "      <td>NaN</td>\n",
              "      <td>https://studio.twitter.com</td>\n",
              "      <td>False</td>\n",
              "      <td>{'media': [{'display_url': 'pic.twitter.com/Xr...</td>\n",
              "      <td>{'media': [{'display_url': 'pic.twitter.com/Xr...</td>\n",
              "    </tr>\n",
              "    <tr>\n",
              "      <th>1</th>\n",
              "      <td>780916180899037184</td>\n",
              "      <td>HillaryClinton</td>\n",
              "      <td>Last night, Donald Trump said not paying taxes...</td>\n",
              "      <td>True</td>\n",
              "      <td>timkaine</td>\n",
              "      <td>2016-09-27T23:45:00</td>\n",
              "      <td>NaN</td>\n",
              "      <td>NaN</td>\n",
              "      <td>NaN</td>\n",
              "      <td>False</td>\n",
              "      <td>en</td>\n",
              "      <td>2445</td>\n",
              "      <td>5308</td>\n",
              "      <td>NaN</td>\n",
              "      <td>NaN</td>\n",
              "      <td>NaN</td>\n",
              "      <td>NaN</td>\n",
              "      <td>NaN</td>\n",
              "      <td>NaN</td>\n",
              "      <td>NaN</td>\n",
              "      <td>NaN</td>\n",
              "      <td>NaN</td>\n",
              "      <td>NaN</td>\n",
              "      <td>NaN</td>\n",
              "      <td>http://twitter.com</td>\n",
              "      <td>False</td>\n",
              "      <td>{'media': [{'display_url': 'pic.twitter.com/t0...</td>\n",
              "      <td>{'media': [{'display_url': 'pic.twitter.com/t0...</td>\n",
              "    </tr>\n",
              "    <tr>\n",
              "      <th>2</th>\n",
              "      <td>780911564857761793</td>\n",
              "      <td>HillaryClinton</td>\n",
              "      <td>Couldn't be more proud of @HillaryClinton. Her...</td>\n",
              "      <td>True</td>\n",
              "      <td>POTUS</td>\n",
              "      <td>2016-09-27T23:26:40</td>\n",
              "      <td>NaN</td>\n",
              "      <td>NaN</td>\n",
              "      <td>NaN</td>\n",
              "      <td>False</td>\n",
              "      <td>en</td>\n",
              "      <td>7834</td>\n",
              "      <td>27234</td>\n",
              "      <td>NaN</td>\n",
              "      <td>NaN</td>\n",
              "      <td>NaN</td>\n",
              "      <td>NaN</td>\n",
              "      <td>NaN</td>\n",
              "      <td>NaN</td>\n",
              "      <td>NaN</td>\n",
              "      <td>NaN</td>\n",
              "      <td>NaN</td>\n",
              "      <td>NaN</td>\n",
              "      <td>NaN</td>\n",
              "      <td>https://about.twitter.com/products/tweetdeck</td>\n",
              "      <td>False</td>\n",
              "      <td>{'user_mentions': [{'id_str': '1536791610', 'n...</td>\n",
              "      <td>NaN</td>\n",
              "    </tr>\n",
              "    <tr>\n",
              "      <th>3</th>\n",
              "      <td>780907038650068994</td>\n",
              "      <td>HillaryClinton</td>\n",
              "      <td>If we stand together, there's nothing we can't...</td>\n",
              "      <td>False</td>\n",
              "      <td>NaN</td>\n",
              "      <td>2016-09-27T23:08:41</td>\n",
              "      <td>NaN</td>\n",
              "      <td>NaN</td>\n",
              "      <td>NaN</td>\n",
              "      <td>False</td>\n",
              "      <td>en</td>\n",
              "      <td>916</td>\n",
              "      <td>2542</td>\n",
              "      <td>NaN</td>\n",
              "      <td>NaN</td>\n",
              "      <td>NaN</td>\n",
              "      <td>NaN</td>\n",
              "      <td>NaN</td>\n",
              "      <td>NaN</td>\n",
              "      <td>NaN</td>\n",
              "      <td>NaN</td>\n",
              "      <td>NaN</td>\n",
              "      <td>NaN</td>\n",
              "      <td>NaN</td>\n",
              "      <td>https://studio.twitter.com</td>\n",
              "      <td>False</td>\n",
              "      <td>{'media': [{'display_url': 'pic.twitter.com/Q3...</td>\n",
              "      <td>{'media': [{'display_url': 'pic.twitter.com/Q3...</td>\n",
              "    </tr>\n",
              "    <tr>\n",
              "      <th>4</th>\n",
              "      <td>780897419462602752</td>\n",
              "      <td>HillaryClinton</td>\n",
              "      <td>Both candidates were asked about how they'd co...</td>\n",
              "      <td>False</td>\n",
              "      <td>NaN</td>\n",
              "      <td>2016-09-27T22:30:27</td>\n",
              "      <td>NaN</td>\n",
              "      <td>NaN</td>\n",
              "      <td>NaN</td>\n",
              "      <td>False</td>\n",
              "      <td>en</td>\n",
              "      <td>859</td>\n",
              "      <td>2882</td>\n",
              "      <td>NaN</td>\n",
              "      <td>NaN</td>\n",
              "      <td>NaN</td>\n",
              "      <td>NaN</td>\n",
              "      <td>NaN</td>\n",
              "      <td>NaN</td>\n",
              "      <td>NaN</td>\n",
              "      <td>NaN</td>\n",
              "      <td>NaN</td>\n",
              "      <td>NaN</td>\n",
              "      <td>NaN</td>\n",
              "      <td>https://about.twitter.com/products/tweetdeck</td>\n",
              "      <td>False</td>\n",
              "      <td>{'user_mentions': [], 'symbols': [], 'urls': [...</td>\n",
              "      <td>NaN</td>\n",
              "    </tr>\n",
              "  </tbody>\n",
              "</table>\n",
              "</div>"
            ],
            "text/plain": [
              "                   id  ...                                  extended_entities\n",
              "0  780925634159796224  ...  {'media': [{'display_url': 'pic.twitter.com/Xr...\n",
              "1  780916180899037184  ...  {'media': [{'display_url': 'pic.twitter.com/t0...\n",
              "2  780911564857761793  ...                                                NaN\n",
              "3  780907038650068994  ...  {'media': [{'display_url': 'pic.twitter.com/Q3...\n",
              "4  780897419462602752  ...                                                NaN\n",
              "\n",
              "[5 rows x 28 columns]"
            ]
          },
          "metadata": {
            "tags": []
          },
          "execution_count": 8
        }
      ]
    },
    {
      "cell_type": "code",
      "metadata": {
        "id": "efOB9APUoF0H",
        "colab": {
          "base_uri": "https://localhost:8080/",
          "height": 204
        },
        "outputId": "c2058d49-1368-4202-e7bd-59d3b642cf9c"
      },
      "source": [
        "tweets = pd.read_csv('gdrive/My Drive/Colab Notebooks/tweets.csv', usecols = ['handle', 'text', 'is_retweet'])\n",
        "tweets.head()"
      ],
      "execution_count": null,
      "outputs": [
        {
          "output_type": "execute_result",
          "data": {
            "text/html": [
              "<div>\n",
              "<style scoped>\n",
              "    .dataframe tbody tr th:only-of-type {\n",
              "        vertical-align: middle;\n",
              "    }\n",
              "\n",
              "    .dataframe tbody tr th {\n",
              "        vertical-align: top;\n",
              "    }\n",
              "\n",
              "    .dataframe thead th {\n",
              "        text-align: right;\n",
              "    }\n",
              "</style>\n",
              "<table border=\"1\" class=\"dataframe\">\n",
              "  <thead>\n",
              "    <tr style=\"text-align: right;\">\n",
              "      <th></th>\n",
              "      <th>handle</th>\n",
              "      <th>text</th>\n",
              "      <th>is_retweet</th>\n",
              "    </tr>\n",
              "  </thead>\n",
              "  <tbody>\n",
              "    <tr>\n",
              "      <th>0</th>\n",
              "      <td>HillaryClinton</td>\n",
              "      <td>The question in this election: Who can put the...</td>\n",
              "      <td>False</td>\n",
              "    </tr>\n",
              "    <tr>\n",
              "      <th>1</th>\n",
              "      <td>HillaryClinton</td>\n",
              "      <td>Last night, Donald Trump said not paying taxes...</td>\n",
              "      <td>True</td>\n",
              "    </tr>\n",
              "    <tr>\n",
              "      <th>2</th>\n",
              "      <td>HillaryClinton</td>\n",
              "      <td>Couldn't be more proud of @HillaryClinton. Her...</td>\n",
              "      <td>True</td>\n",
              "    </tr>\n",
              "    <tr>\n",
              "      <th>3</th>\n",
              "      <td>HillaryClinton</td>\n",
              "      <td>If we stand together, there's nothing we can't...</td>\n",
              "      <td>False</td>\n",
              "    </tr>\n",
              "    <tr>\n",
              "      <th>4</th>\n",
              "      <td>HillaryClinton</td>\n",
              "      <td>Both candidates were asked about how they'd co...</td>\n",
              "      <td>False</td>\n",
              "    </tr>\n",
              "  </tbody>\n",
              "</table>\n",
              "</div>"
            ],
            "text/plain": [
              "           handle  ... is_retweet\n",
              "0  HillaryClinton  ...      False\n",
              "1  HillaryClinton  ...       True\n",
              "2  HillaryClinton  ...       True\n",
              "3  HillaryClinton  ...      False\n",
              "4  HillaryClinton  ...      False\n",
              "\n",
              "[5 rows x 3 columns]"
            ]
          },
          "metadata": {
            "tags": []
          },
          "execution_count": 9
        }
      ]
    },
    {
      "cell_type": "code",
      "metadata": {
        "id": "Nl4LCiUeZqD-"
      },
      "source": [
        ""
      ],
      "execution_count": null,
      "outputs": []
    },
    {
      "cell_type": "markdown",
      "metadata": {
        "id": "92WM2MxkZd1p"
      },
      "source": [
        ""
      ]
    },
    {
      "cell_type": "code",
      "metadata": {
        "id": "gnodJsKhpMxm"
      },
      "source": [
        "#Using the method availiable in markovify\n",
        "def tweet(tweeter):\n",
        "    doc = tweets[tweets.handle.str.contains(tweeter)].text.tolist()\n",
        "    text_model = mk.Text(doc) #Thid command builds the model\n",
        "    print('\\n', tweeter)\n",
        "    for i in range(8):\n",
        "        print(text_model.make_short_sentence(140)) \n",
        "        \n",
        "        #the make_sentence method tries a maximum of 10 times per invocation, to make a sentence that does not overlap too much with the original text"
      ],
      "execution_count": null,
      "outputs": []
    },
    {
      "cell_type": "code",
      "metadata": {
        "id": "O-Iwm6HDpUre",
        "colab": {
          "base_uri": "https://localhost:8080/",
          "height": 187
        },
        "outputId": "31e475e3-ce97-400b-cea5-aa657b69824e"
      },
      "source": [
        "tweet('Donald')"
      ],
      "execution_count": null,
      "outputs": [
        {
          "output_type": "stream",
          "text": [
            "\n",
            " Donald\n",
            "Cruz came to my supporters, millions of dollars of negative ads on me.\n",
            "The invention of email has proven her to be VP that tell the press conference today.\n",
            "My speech was one of my meeting with the capture of our country.\n",
            "It all begins today - it was the best produced, including the mandate, period.\n",
            "Sorry Joe, that was right when he says it, the phony WSJ/NBC poll.\n",
            "Many of his help in our country are very angry!\n",
            "He will be in jail.\n",
            "#CrookedHillary is not as smart as Cruz, and Says Donald Trump press conference in 179 days.\n"
          ],
          "name": "stdout"
        }
      ]
    },
    {
      "cell_type": "code",
      "metadata": {
        "id": "CAO9hPvypbmo",
        "colab": {
          "base_uri": "https://localhost:8080/",
          "height": 207
        },
        "outputId": "9038b163-2a94-4230-a11d-46f512399f0a"
      },
      "source": [
        "#Donald Trumps fake tweets starting with the letter \"I\"\n",
        "\n",
        "def subj_tweet(tweeter, subject):\n",
        "    doc = tweets[tweets.handle.str.contains(tweeter)].text.tolist()\n",
        "    text_model = mk.Text(doc) \n",
        "    print('\\n', tweeter)\n",
        "    for i in range(8):\n",
        "        print(text_model.make_sentence_with_start(subject, strict=False))\n",
        "\n",
        "subj_tweet('Donald', 'I')"
      ],
      "execution_count": null,
      "outputs": [
        {
          "output_type": "stream",
          "text": [
            "\n",
            " Donald\n",
            "I believe that his supporters will go to Louisiana, and now our own people are killing our police.\n",
            "I increased my lead by big numbers, shows that @marcorubio does by far the best stories I have been informed two @fortworthpd officers have been left behind.\n",
            "I stated at the venue shortly.\n",
            "I helped-refused to use any of the time, energy and his family to stay at the Cadillac World Golf Championship @TrumpDoral in Miami and watch the show anymore.They misrepresent my positions!\n",
            "I met Prince on numerous other topics!\n",
            "I spent very little and built it into nearly $20T.\n",
            "I greatly appreciate your statements --- I have other plans.\n",
            "I spend much less money &amp; get home to Washington- where a #POTUS, under a serious problem for years.\n"
          ],
          "name": "stdout"
        }
      ]
    },
    {
      "cell_type": "code",
      "metadata": {
        "id": "ahFNrPH-qjKo",
        "colab": {
          "base_uri": "https://localhost:8080/",
          "height": 207
        },
        "outputId": "8d6f10ec-d150-41bb-ae83-6f95ad4ed81d"
      },
      "source": [
        "subj_tweet('Hillary', 'You')"
      ],
      "execution_count": null,
      "outputs": [
        {
          "output_type": "stream",
          "text": [
            "\n",
            " Hillary\n",
            "You can't make America a clean energy superpower of the United States. https://t.co/igt3AKcMhK\n",
            "You literally said all those who did, you have to do something about being an American value. https://t.co/lZJ8T0Xu3M\n",
            "You don’t just get to say about prisoners of war—but he wants to. https://t.co/HzFWUT1XFl\n",
            "You still have a stake in equality.\n",
            "You can't have the nuclear codes.\n",
            "You literally said all those people at risk. https://t.co/HMiJtadxMF\n",
            "You never know what else I prepared to be by her side all the good you can, in all the good you can, for all Americans, especially #LGBT people.\n",
            "You want something to vote today to help every family afford the fare.\n"
          ],
          "name": "stdout"
        }
      ]
    },
    {
      "cell_type": "code",
      "metadata": {
        "id": "BzHEz8SsshbC",
        "colab": {
          "base_uri": "https://localhost:8080/",
          "height": 207
        },
        "outputId": "022b4d76-3257-4812-e6e1-cb19d6e09ab5"
      },
      "source": [
        "subj_tweet('Donald', 'No')"
      ],
      "execution_count": null,
      "outputs": [
        {
          "output_type": "stream",
          "text": [
            "\n",
            " Donald\n",
            "No one has worse judgement than Hillary Clinton is totally biased and phony media will find a good thing.\n",
            "No games, we must be changed to additionally focus on terrorism as well as current mission, but also want others to PAY FAIR SHARE, a must!\n",
            "No games, we must be registered Republican by February 16th to vote Trump=SAFE!\n",
            "No one has worse judgement than Hillary Clinton is answering softball questions about her email lies and never let the American flag on the ballot in various places in Florida?\n",
            "No games, we must call on BREXIT with big dollar ads.\n",
            "No games, we must be vigilant and smart!\n",
            "No legal disclosure &amp; never let the families of the men and women who have suffered massive and embarrassing losses, the party is VERY united.\n",
            "No matter what Bill Clinton says and no matter how well he says his disruptors aren't told to go to my campaign.\n"
          ],
          "name": "stdout"
        }
      ]
    },
    {
      "cell_type": "markdown",
      "metadata": {
        "id": "5KT_d2PSaXzT"
      },
      "source": [
        "###Increasing the state-size ie reducing randomness"
      ]
    },
    {
      "cell_type": "code",
      "metadata": {
        "id": "DR-aL054k2Xd"
      },
      "source": [
        ""
      ],
      "execution_count": null,
      "outputs": []
    },
    {
      "cell_type": "code",
      "metadata": {
        "id": "gcHQuQdeaZdX",
        "colab": {
          "base_uri": "https://localhost:8080/",
          "height": 207
        },
        "outputId": "6d636013-7f70-4658-98db-b3f14c8d2a24"
      },
      "source": [
        "def MYsubj_tweet(tweeter, subject):\n",
        "    doc = tweets[tweets.handle.str.contains(tweeter)].text.tolist()\n",
        "    text_model = mk.Text(doc, state_size = 4) \n",
        "    print('\\n', tweeter)\n",
        "    for i in range(8):\n",
        "        print(text_model.make_sentence_with_start(subject, strict=False))\n",
        "\n",
        "MYsubj_tweet('Donald', 'I')"
      ],
      "execution_count": null,
      "outputs": [
        {
          "output_type": "stream",
          "text": [
            "\n",
            " Donald\n",
            "I will be interviewed by @SeanHannity tonight at 10pmE - delivering an important speech live from Wisconsin.\n",
            "I beat both Hillary and Bernie, and I havn't even focused on her yet.\n",
            "I will be interviewed on @seanhannity tonight at 10pm, hosted by @GovMikeHuckabee.\n",
            "I have warned from the beginning, Crooked Hillary Clinton will be a disaster for jobs and the economy!\n",
            "I am not just running against Crooked Hillary Clinton, I am running against the Washington insiders, just like I did in the Republican Primaries.\n",
            "I will bring our jobs back to the U.S.and protect car industry!\n",
            "I showed anger and the people of our country are amazing - great numbers on November 8th!\n",
            "I just released my financial disclosure forms, the largest numbers in the history of Republican politics, is now pushing me on tax returns.\n"
          ],
          "name": "stdout"
        }
      ]
    },
    {
      "cell_type": "markdown",
      "metadata": {
        "id": "nFamb3efk7JB"
      },
      "source": [
        "###Increasing the number of invocations"
      ]
    },
    {
      "cell_type": "code",
      "metadata": {
        "id": "bzyL6Ldik9Nh",
        "colab": {
          "base_uri": "https://localhost:8080/",
          "height": 187
        },
        "outputId": "7d6751d9-8af5-45c3-a5e0-5c625ecd6bf8"
      },
      "source": [
        "def MOREsubj_tweet(tweeter, subject):\n",
        "    doc = tweets[tweets.handle.str.contains(tweeter)].text.tolist()\n",
        "    text_model = mk.Text(doc, state_size = 4) \n",
        "    print('\\n', tweeter)\n",
        "    for i in range(8):\n",
        "        print(text_model.make_sentence_with_start(subject, strict=False, tries = 100))\n",
        "\n",
        "MOREsubj_tweet('Donald', 'I')"
      ],
      "execution_count": null,
      "outputs": [
        {
          "output_type": "stream",
          "text": [
            "\n",
            " Donald\n",
            "I easily beat Hillary Clinton - and I havn't even started on them yet!\n",
            "I win, all of the bad things happening in the U.S. People want their country back!\n",
            "I want to go to my events.\n",
            "I agree with Marco Rubio that Ted Cruz is talking about &amp; demeaning? https://t.co/rYGX9vazku\n",
            "I consider him one of the dumbest and worst candidates in the history of the United States!\n",
            "I want to thank the people of Iowa and U.S. Will see her again!\n",
            "I ran him out of the race - e-mail scandal!\n",
            "I would like to thank everyone for your tremendous support.\n"
          ],
          "name": "stdout"
        }
      ]
    },
    {
      "cell_type": "markdown",
      "metadata": {
        "id": "SVi3UDwklRrX"
      },
      "source": [
        "By default, it tries 10 times and chooses the sentences that match the least with original tweets."
      ]
    }
  ]
}